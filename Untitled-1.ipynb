{
 "cells": [
  {
   "cell_type": "code",
   "execution_count": 25,
   "metadata": {},
   "outputs": [],
   "source": [
    "# %%\n",
    "import sys\n",
    "from IPython.display import display\n",
    "import pandas as pd\n",
    "import os\n",
    "import numpy as np\n",
    "Path = \"/mnt/c/Users/ljs/Documents\"\n",
    "fileNames = [fileName for fileName in os.listdir(Path) if fileName.endswith(\"csv\")]\n",
    "\n",
    "def assignForget(df, words):\n",
    "    forget = np.zeros(df.shape[0])\n",
    "    for word in words:\n",
    "        index = np.where(df['words'] == word)\n",
    "        forget[index] = 1\n",
    "    df['forget'] = forget\n",
    "    return df\n",
    "\n",
    "def showWords(df,index=1):\n",
    "    print(np.floor(df.shape[0]/20))\n",
    "    \n",
    "    if index > np.floor(df.shape[0]/20):\n",
    "        index = np.int8(np.floor(df.shape[0]/20))\n",
    "        return df.iloc[:-index*20,:]\n",
    "    elif index == 1:\n",
    "        return df.tail(20)\n",
    "    else:\n",
    "        return df.iloc[-index*20:-(index-1)*20,:]\n",
    "\n",
    "def showForget(df):\n",
    "    display(df.loc[df['forget']==1,:])\n",
    "    return df.loc[df['forget']==1,:]"
   ]
  },
  {
   "cell_type": "code",
   "execution_count": 2,
   "metadata": {},
   "outputs": [],
   "source": [
    "# \"/mnt/e/data_2021/3. CSV/results/csv/\"\n",
    "df = pd.read_csv(f'{Path}/{fileNames[0]}',header=None, names=np.array([\"words\",\"property\",\"meaning\"]))\n",
    "words = [\"revoke\",\"recoil\",\"strip\",\"vicious\",\"relegate\",\"shrewd\", \"resent\",\"crusade\",\"thorn\",\"lethal\",\"eloquent\",\"reluctant\",\"garb\",\"substantial\"]\n",
    "df = assignForget(df, words)"
   ]
  },
  {
   "cell_type": "code",
   "execution_count": 28,
   "metadata": {},
   "outputs": [
    {
     "ename": "ValueError",
     "evalue": "invalid literal for int() with base 10: 'words'",
     "output_type": "error",
     "traceback": [
      "\u001b[0;31m---------------------------------------------------------------------------\u001b[0m",
      "\u001b[0;31mValueError\u001b[0m                                Traceback (most recent call last)",
      "\u001b[1;32m/home/tree/Documents/Untitled-1.ipynb Cell 3\u001b[0m in \u001b[0;36m<cell line: 1>\u001b[0;34m()\u001b[0m\n\u001b[0;32m----> <a href='vscode-notebook-cell://wsl%2Bubuntu-18.04/home/tree/Documents/Untitled-1.ipynb#W1sdnNjb2RlLXJlbW90ZQ%3D%3D?line=0'>1</a>\u001b[0m np\u001b[39m.\u001b[39;49mint8(\u001b[39m\"\u001b[39;49m\u001b[39mwords\u001b[39;49m\u001b[39m\"\u001b[39;49m)\n",
      "\u001b[0;31mValueError\u001b[0m: invalid literal for int() with base 10: 'words'"
     ]
    }
   ],
   "source": [
    "np.int8(\"words\")"
   ]
  },
  {
   "cell_type": "code",
   "execution_count": null,
   "metadata": {},
   "outputs": [],
   "source": []
  }
 ],
 "metadata": {
  "kernelspec": {
   "display_name": "Python 3.8.13 ('pacman')",
   "language": "python",
   "name": "python3"
  },
  "language_info": {
   "codemirror_mode": {
    "name": "ipython",
    "version": 3
   },
   "file_extension": ".py",
   "mimetype": "text/x-python",
   "name": "python",
   "nbconvert_exporter": "python",
   "pygments_lexer": "ipython3",
   "version": "3.8.13"
  },
  "orig_nbformat": 4,
  "vscode": {
   "interpreter": {
    "hash": "2d3d099ec4db8237419c7eb388529d3d2e2923b49610f6aba6850c895ed1cc97"
   }
  }
 },
 "nbformat": 4,
 "nbformat_minor": 2
}
