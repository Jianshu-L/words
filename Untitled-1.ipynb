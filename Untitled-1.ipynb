{
 "cells": [
  {
   "cell_type": "code",
   "execution_count": 1,
   "metadata": {},
   "outputs": [],
   "source": [
    "# %%\n",
    "import sys\n",
    "from IPython.display import display\n",
    "import pandas as pd\n",
    "import os\n",
    "import numpy as np\n",
    "import random\n",
    "Path = \"/mnt/c/Users/ljs/Documents\"\n",
    "fileNames = [fileName for fileName in os.listdir(Path) if fileName.endswith(\"csv\")]\n",
    "# df = pd.read_csv(f'{Path}/{fileNames[0]}',header=None, names=np.array([\"words\",\"property\",\"meaning\"]))\n",
    "\n",
    "\n",
    "def assignForget(df, words):\n",
    "    try:\n",
    "        forget = df['forget'].values\n",
    "    except:\n",
    "        forget = np.zeros(df.shape[0])\n",
    "    for word in words:\n",
    "        if word.startswith(\"-\"):\n",
    "            index = np.where(df['words'] == word)\n",
    "            forget[index] = 0\n",
    "        else:\n",
    "            index = np.where(df['words'] == word)\n",
    "            forget[index] = 1\n",
    "    df['forget'] = forget\n",
    "    return df\n",
    "\n",
    "def showWords(df,index):\n",
    "    print(np.floor(df.shape[0]/20))\n",
    "    if index == 0:\n",
    "        return df.iloc[random.sample(range(0,64),20),:]\n",
    "    if index > np.floor(df.shape[0]/20):\n",
    "        index = np.int8(np.floor(df.shape[0]/20))\n",
    "        return df.iloc[:-index*20,:]\n",
    "    elif index == 1:\n",
    "        return df.tail(20)\n",
    "    else:\n",
    "        return df.iloc[-index*20:-(index-1)*20,:]\n",
    "\n",
    "def showForget(df):\n",
    "    return df.loc[df['forget']==1,:]"
   ]
  },
  {
   "cell_type": "code",
   "execution_count": 2,
   "metadata": {},
   "outputs": [],
   "source": [
    "# words = [\"revoke\",\"recoil\",\"strip\",\"vicious\",\"relegate\",\"shrewd\", \"resent\",\"crusade\",\"thorn\",\"lethal\",\"eloquent\",\"reluctant\",\"garb\",\"substantial\"]\n",
    "df = pd.read_csv(\"words.csv\")\n",
    "index = np.int8(sys.argv[1])\n",
    "showWords(df, index).to_markdown('temp.md')\n",
    "if len(sys.argv) > 2:\n",
    "    words = sys.argv[2:]\n",
    "    print(words)\n",
    "    df = assignForget(df, words)\n",
    "    df.to_csv(\"words.csv\", index=False)\n",
    "    df.to_markdown('words.md')\n",
    "showForget(df).to_markdown('forget.md')"
   ]
  },
  {
   "cell_type": "code",
   "execution_count": 4,
   "metadata": {},
   "outputs": [],
   "source": [
    "words = \"-liable\" * 2"
   ]
  },
  {
   "cell_type": "code",
   "execution_count": 3,
   "metadata": {},
   "outputs": [
    {
     "data": {
      "text/plain": [
       "True"
      ]
     },
     "execution_count": 3,
     "metadata": {},
     "output_type": "execute_result"
    }
   ],
   "source": [
    "words.startswith(\"-\")"
   ]
  },
  {
   "cell_type": "code",
   "execution_count": null,
   "metadata": {},
   "outputs": [],
   "source": []
  }
 ],
 "metadata": {
  "kernelspec": {
   "display_name": "Python 3.8.13 ('pacman')",
   "language": "python",
   "name": "python3"
  },
  "language_info": {
   "codemirror_mode": {
    "name": "ipython",
    "version": 3
   },
   "file_extension": ".py",
   "mimetype": "text/x-python",
   "name": "python",
   "nbconvert_exporter": "python",
   "pygments_lexer": "ipython3",
   "version": "3.8.13"
  },
  "orig_nbformat": 4,
  "vscode": {
   "interpreter": {
    "hash": "2d3d099ec4db8237419c7eb388529d3d2e2923b49610f6aba6850c895ed1cc97"
   }
  }
 },
 "nbformat": 4,
 "nbformat_minor": 2
}
